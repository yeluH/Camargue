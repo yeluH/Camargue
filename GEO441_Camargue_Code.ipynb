{
 "cells": [
  {
   "cell_type": "code",
   "execution_count": null,
   "id": "1b018e99",
   "metadata": {},
   "outputs": [],
   "source": [
    "import matplotlib.pyplot as plt\n",
    "import matplotlib.image as mpimg\n",
    "import numpy as np\n",
    "from skimage import feature\n",
    "from PIL import Image, ImageFont, ImageDraw\n",
    "import pandas as pd\n",
    "from matplotlib import cm\n",
    "import rasterio\n",
    "import os\n",
    "import imageio\n",
    "import os\n"
   ]
  },
  {
   "cell_type": "markdown",
   "id": "29b02b35",
   "metadata": {},
   "source": [
    "# Functions:\n",
    "## Landsat 8\n",
    "l8_water_mask_NDVI(): combined approach of LSWI and NDVI for rice field detection.\n",
    "\n",
    "INDICE_Timeseries(): creates the time series plots of the used indices over the entire available time period. Calculates the mean value of the raster. "
   ]
  },
  {
   "cell_type": "code",
   "execution_count": null,
   "id": "b0f9f529",
   "metadata": {},
   "outputs": [],
   "source": [
    "def norm(band):\n",
    "    band_min, band_max = band.min(), band.max()\n",
    "    return ((band - band_min)/(band_max - band_min))"
   ]
  },
  {
   "cell_type": "code",
   "execution_count": null,
   "id": "22b71051",
   "metadata": {},
   "outputs": [],
   "source": [
    "def scale(x):\n",
    "    return((x - np.nanpercentile(x, 2)) / (np.nanpercentile(x, 98) - np.nanpercentile(x, 2)))"
   ]
  },
  {
   "cell_type": "code",
   "execution_count": null,
   "id": "bdc0eaec",
   "metadata": {},
   "outputs": [],
   "source": [
    "def show_RGB(file):\n",
    "    ds = rasterio.open(f\"S:\\course\\geo441\\stud\\mfeyen\\data\\landsat 8\\{file}\")\n",
    "\n",
    "    b1 = ds.read(4)\n",
    "    b1 = b1[2190:2473, 1093:1475]\n",
    "    b1 = norm(b1).astype(np.float)\n",
    "    b1 = scale(b1)\n",
    "        \n",
    "    b2 = ds.read(3)\n",
    "    b2 = b2[2190:2473, 1093:1475]\n",
    "    b2 = norm(b2).astype(np.float)\n",
    "    b2 = scale(b2)\n",
    "\n",
    "    b3 = ds.read(2)\n",
    "    b3 = b3[2190:2473, 1093:1475]\n",
    "    b3 = norm(b3).astype(np.float)\n",
    "    b3 = scale(b3)\n",
    "\n",
    "    stack = np.dstack((b1, b2, b3))\n",
    "    return stack"
   ]
  },
  {
   "cell_type": "code",
   "execution_count": null,
   "id": "a5a9fe77",
   "metadata": {},
   "outputs": [],
   "source": [
    "def l8_water_mask_NDVI(file):\n",
    "    ds = rasterio.open(f\"S:\\course\\geo441\\stud\\mfeyen\\data\\landsat 8\\{file}\")\n",
    "    \n",
    "    # LSWI (NIR (Band5) & SWIR2 (Band7))\n",
    "    b5 = ds.read(5)\n",
    "    b5 = b5[2190:2473, 1093:1475]\n",
    "    \n",
    "    b7 = ds.read(7)\n",
    "    b7 = b7[2190:2473, 1093:1475]\n",
    "  \n",
    "    #np.seterr(divide='ignore', invalid='ignore')\n",
    "\n",
    "    lswi = (b5.astype(float) - b7.astype(float))/(b5 + b7)\n",
    "    \n",
    "    \n",
    "    # NDVI\n",
    "    b5 = ds.read(5)\n",
    "    b5 = b5[2190:2473, 1093:1475]\n",
    "        \n",
    "    b4 = ds.read(4)\n",
    "    b4 = b4[2190:2473, 1093:1475]\n",
    "              \n",
    "    ndvi = (b5.astype(float) - b4.astype(float)) / (b5 + b4)\n",
    "    \n",
    "    v = lswi - ndvi + 0.05\n",
    "    \n",
    "    water_mask = np.zeros((283, 382))\n",
    "\n",
    "    for i in range(len(v)):\n",
    "        for j in range(len(v[i])):\n",
    "            if v[i][j] > 0:\n",
    "                water_mask[i][j] = 1\n",
    "            else: \n",
    "                water_mask[i][j] =  float(\"nan\")\n",
    "            #ndmi_mask[i][j] = 0\n",
    "\n",
    "            \n",
    "    return water_mask"
   ]
  },
  {
   "cell_type": "code",
   "execution_count": null,
   "id": "586f7688",
   "metadata": {},
   "outputs": [],
   "source": [
    "import os\n",
    "path = \"S:\\course\\geo441\\stud\\mfeyen\\data\\landsat 8\"\n",
    "dir_list = os.listdir(path)"
   ]
  },
  {
   "cell_type": "code",
   "execution_count": null,
   "id": "027c41a1",
   "metadata": {},
   "outputs": [],
   "source": [
    "def ndwi_Timeseries(input_list):\n",
    "    list_values = []\n",
    "    for filename in input_list:\n",
    "        ds = rio.open(f\"{path}/{filename}\")\n",
    "        b3 = ds.read(3)\n",
    "        b3 = b3[2190:2473, 1093:1475]\n",
    "       \n",
    "        b5 = ds.read(5)\n",
    "        b5 = b5[2190:2473, 1093:1475]\n",
    "        \n",
    "        ndwi = (b3.astype(float) - b5.astype(float)) / (b3 + b5)\n",
    "\n",
    "        stats = np.nanmean(ndwi)\n",
    "        list_values.append(stats)\n",
    "    return list_values"
   ]
  },
  {
   "cell_type": "code",
   "execution_count": null,
   "id": "fc3e62a2",
   "metadata": {},
   "outputs": [],
   "source": [
    "def ndmi_Timeseries(input_list):\n",
    "    list_values = []\n",
    "    for filename in input_list:\n",
    "        ds = rio.open(f\"{path}/{filename}\")\n",
    "        \n",
    "        b5 = ds.read(5)\n",
    "        b5 = b5[2190:2473, 1093:1475]\n",
    "               \n",
    "        b6 = ds.read(6)\n",
    "        b6 = b6[2190:2473, 1093:1475]\n",
    "        \n",
    "        ndmi = (b5.astype(float) - b6.astype(float)) / (b5 + b6)\n",
    "        stats = np.nanmean(ndmi)\n",
    "        list_values.append(stats)\n",
    "    return list_values"
   ]
  },
  {
   "cell_type": "code",
   "execution_count": null,
   "id": "325b45c6",
   "metadata": {},
   "outputs": [],
   "source": [
    "def ndvi_Timeseries(input_list):\n",
    "    list_values = []\n",
    "    for filename in input_list:\n",
    "        ds = rio.open(f\"{path}/{filename}\")\n",
    "        \n",
    "        b5 = ds.read(5)\n",
    "        b5 = b5[2190:2473, 1093:1475]\n",
    "        #b5 = norm(b5).astype(np.float)\n",
    "        #b5 = scale(b5)\n",
    "        \n",
    "        b4 = ds.read(4)\n",
    "        b4 = b4[2190:2473, 1093:1475]\n",
    "        #b6 = norm(b6).astype(np.float)\n",
    "        #b6 = scale(b6)\n",
    "        \n",
    "        ndvi = (b5.astype(float) - b4.astype(float)) / (b5 + b4)\n",
    "        #stats = zonal_stats(ndmi, ndmi, affine = affine, stats=['min', 'max', 'mean', 'median', 'majority'])\n",
    "        stats = np.nanmean(ndvi)\n",
    "        list_values.append(stats)\n",
    "    return list_values\n",
    "        \n",
    "#test_ndvi = ndvi_Timeseries(dir_list)"
   ]
  },
  {
   "cell_type": "markdown",
   "id": "b7f71817",
   "metadata": {},
   "source": [
    "## SAR\n",
    "SAR_Timeseries(): Calculates the mean backscatter value in dB. \n",
    "\n",
    "sar_time_series_image(): For a certain timeframe, the water mask is calculated and displayed on its raw image."
   ]
  },
  {
   "cell_type": "code",
   "execution_count": null,
   "id": "a55c13d4",
   "metadata": {},
   "outputs": [],
   "source": [
    "def sar_water_mask(file):\n",
    "    img = rasterio.open(f\"S:\\course\\geo441\\stud\\mfeyen\\data\\S1_vh\\{file}\")\n",
    "    band1 = img.read(1)\n",
    "    band1 = band1[2190:2473, 1093:1475]\n",
    "    band1 = np.log10(band1)\n",
    "    \n",
    "    water_mask = np.zeros((283, 382))\n",
    "    \n",
    "    for i in range(len(band1)):\n",
    "        for j in range(len(band1[i])):\n",
    "            if band1[i][j] < -2:\n",
    "                water_mask[i][j] = 1\n",
    "            else: water_mask[i][j] = float(\"nan\")\n",
    "    return water_mask"
   ]
  },
  {
   "cell_type": "code",
   "execution_count": null,
   "id": "f0d68163",
   "metadata": {},
   "outputs": [],
   "source": [
    "path_SAR = \"S:\\course\\geo441\\stud\\mfeyen\\data\\S1_vh\"\n",
    "dir_list_SAR = os.listdir(path_SAR)"
   ]
  },
  {
   "cell_type": "code",
   "execution_count": null,
   "id": "a0387a57",
   "metadata": {},
   "outputs": [],
   "source": [
    "name_list_SAR = []\n",
    "for filename in dir_list_SAR:\n",
    "    name_list_SAR.append(filename[12:20])"
   ]
  },
  {
   "cell_type": "code",
   "execution_count": null,
   "id": "a24437b8",
   "metadata": {},
   "outputs": [],
   "source": [
    "def read_sar(imput):\n",
    "    img = rio.open(f\"{path_SAR}/{imput}\")\n",
    "    band1 = img.read(1)\n",
    "    band1 = band1[2190:2473, 1093:1475]\n",
    "    band1 = np.log10(band1)\n",
    "    return band1"
   ]
  },
  {
   "cell_type": "code",
   "execution_count": null,
   "id": "8ec7f704",
   "metadata": {},
   "outputs": [],
   "source": [
    "def SAR_Timeseries(input_list):\n",
    "    list_values = []\n",
    "    for filename in input_list:\n",
    "        img = rio.open(f\"{path_SAR}/{filename}\")\n",
    "        band1 = img.read(1)\n",
    "        band1 = band1[2190:2473, 1093:1475]\n",
    "        band1 = np.log10(band1)\n",
    "\n",
    "        stats = np.nanmean(band1)\n",
    "        list_values.append(stats)\n",
    "    return list_values"
   ]
  },
  {
   "cell_type": "code",
   "execution_count": null,
   "id": "06f82cc4",
   "metadata": {},
   "outputs": [],
   "source": [
    "def sar_time_series_image(start, end):\n",
    "    path = \"S:\\course\\geo441\\stud\\mfeyen\\data\\S1_vh\"\n",
    "    dir_list = os.listdir(path)\n",
    "    #print(dir_list)\n",
    "        \n",
    "    index_start = dir_list.index(start)\n",
    "    index_end = dir_list.index(end)\n",
    "    \n",
    "    n = len(dir_list[index_start:index_end])\n",
    "    fig, axs = plt.subplots(n // 2, 2, figsize=(18, (n // 2) * 6))\n",
    "    im = 0\n",
    "    ax2 = 0\n",
    "    \n",
    "    for filename in dir_list[index_start:index_end]:\n",
    "        ds = rasterio.open(f\"{path}/{filename}\")\n",
    "        \n",
    "        band1 = ds.read(1)\n",
    "        band1 = band1[2190:2473, 1093:1475]\n",
    "        band1 = np.log10(band1)\n",
    "    \n",
    "        water_mask = np.zeros((283, 382))\n",
    "    \n",
    "        for i in range(len(band1)):\n",
    "            for j in range(len(band1[i])):\n",
    "                if band1[i][j] < -2:\n",
    "                    water_mask[i][j] = 1\n",
    "                else: water_mask[i][j] = float(\"nan\")\n",
    "        \n",
    "        axs[im, ax2].imshow(band1, cmap = \"gray\")\n",
    "        axs[im, ax2].imshow(water_mask, cmap = \"spring\")        \n",
    "        axs[im, ax2].set_title(filename[12:20], fontsize = 20)\n",
    "        im += 1\n",
    "        if im == n // 2:\n",
    "            ax2 += 1\n",
    "            im = 0\n",
    "            \n",
    "    plt.savefig(f\"Irrigation_Period_East{filename[12:16]}\")"
   ]
  },
  {
   "cell_type": "markdown",
   "id": "3667c1e4",
   "metadata": {},
   "source": [
    "## Combined\n",
    "For certain dates, the indices are calculated and showed as masks on their according RGB-image. The SAR-mask is calculated and multiplied with the Landsat 8 - mask, all products are shown on the same RGB image."
   ]
  },
  {
   "cell_type": "code",
   "execution_count": null,
   "id": "f899c856",
   "metadata": {},
   "outputs": [],
   "source": [
    "def time_series(list_l8, list_sar, name):\n",
    "    \n",
    "    corr = []\n",
    "    n = len(list_l8)\n",
    "    fig, axs = plt.subplots(3, n, figsize=(40,18))\n",
    "    \n",
    "    names_l8 = []\n",
    "    for filename in list_l8:\n",
    "        names_l8.append(filename[10:18])\n",
    "        \n",
    "    names_sar = []\n",
    "    for filename in list_sar:\n",
    "        names_sar.append(filename[12:20])\n",
    "    \n",
    "    for i in range(len(list_l8)):\n",
    "        rgb = show_RGB(list_l8[i])\n",
    "        l8_mask = l8_water_mask_NDVI(list_l8[i])        \n",
    "        sar_mask = sar_water_mask(list_sar[i])\n",
    "        combined = l8_mask * sar_mask\n",
    "\n",
    "        axs[0, i].imshow(rgb)\n",
    "        axs[0, i].imshow(l8_mask, cmap = \"spring\")        \n",
    "        axs[0, i].set_title(names_l8[i], fontsize = 24)\n",
    "        #axs[0, i].axis(\"off\")\n",
    "        axs[1, i].imshow(rgb)\n",
    "        axs[1, i].imshow(sar_mask, cmap = \"spring\")  \n",
    "        axs[1, i].set_title(names_sar[i], fontsize = 24)\n",
    "        #axs[1, i].axis(\"off\")\n",
    "        axs[2, i].imshow(rgb)\n",
    "        axs[2, i].imshow(combined, cmap = \"spring\")\n",
    "        #axs[2, i].axis(\"off\")\n",
    "        \n",
    "    axs[0,0].set_ylabel(\"LSWI - NDVI\", fontsize = 24)  \n",
    "    axs[1,0].set_ylabel(\"SAR\", fontsize = 28)\n",
    "    axs[2,0].set_ylabel(\"(LSWI - NDVI) * SAR\",fontsize = 28)\n",
    "    plt.savefig(f\"Ricefield1_{name}\")\n",
    "    return corr"
   ]
  }
 ],
 "metadata": {
  "kernelspec": {
   "display_name": "Python 3 (ipykernel)",
   "language": "python",
   "name": "python3"
  },
  "language_info": {
   "codemirror_mode": {
    "name": "ipython",
    "version": 3
   },
   "file_extension": ".py",
   "mimetype": "text/x-python",
   "name": "python",
   "nbconvert_exporter": "python",
   "pygments_lexer": "ipython3",
   "version": "3.9.7"
  }
 },
 "nbformat": 4,
 "nbformat_minor": 5
}
